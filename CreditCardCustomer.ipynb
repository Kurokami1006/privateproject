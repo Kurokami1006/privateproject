{
  "cells": [
    {
      "cell_type": "markdown",
      "metadata": {
        "id": "view-in-github",
        "colab_type": "text"
      },
      "source": [
        "<a href=\"https://colab.research.google.com/github/Kurokami1006/privateproject/blob/main/CreditCardCustomer.ipynb\" target=\"_parent\"><img src=\"https://colab.research.google.com/assets/colab-badge.svg\" alt=\"Open In Colab\"/></a>"
      ]
    },
    {
      "cell_type": "markdown",
      "metadata": {
        "id": "YN-8IW_oR8nC"
      },
      "source": [
        "\\-------------------------------------------------------------------------------------------------------------------------------------------------------------\n",
        "\n",
        "**Đơn vị kinh doanh** chuẩn bị cáo cáo với **Ban lãnh đạo** cấp trên về chỉ tiêu kinh doanh mà phòng đã đạt được trong tháng T06/2020 vừa qua. Chi nhánh được các phân bố chỉ tiêu đẩy mạnh vay tiêu dùng, tín chấp.\n",
        "\n",
        "**Trưởng phòng Kinh Doanh** đang cực kỳ quan tâm đến vấn đề thẻ tín dụng đã được phát hành. Mặc dù những chỉ tiêu khác về vốn huy động, vay thế chấp, CASA,... đều ở mức đạt nhưng riêng mỗi chỉ số về thẻ tín dụng đang có sự giảm sút rõ rệt, cụ thể số lượng khách hàng rời bỏ sản phẩm thẻ ngày càng tăng.\n",
        "\n",
        "**Bạn trong team DA** và dược giao nhiệm vụ hỗ trợ **Trưởng phòng Kinh Doanh** trong việc báo cáo và đề xuất cải thiện (nếu có)\n",
        "\n",
        "\\-------------------------------------------------------------------------------------------------------------------------------------------------------------"
      ]
    },
    {
      "cell_type": "code",
      "execution_count": null,
      "metadata": {
        "id": "EI9SBGO8R8nF"
      },
      "outputs": [],
      "source": [
        "import pandas as pd\n",
        "import numpy as np\n",
        "import seaborn as sns\n",
        "import matplotlib.pyplot as plt\n",
        "import warnings\n",
        "warnings.filterwarnings('ignore')\n",
        "pd.set_option('display.max_columns',100)"
      ]
    },
    {
      "cell_type": "code",
      "execution_count": null,
      "metadata": {
        "id": "jLr8-2EzR8nG"
      },
      "outputs": [],
      "source": [
        "df = pd.read_csv('D:\\Quyen\\PYTHON\\TRAINING DATA\\FinalTest - K2\\Dataset\\CreditCardCustomer\\BankChurners.csv')"
      ]
    },
    {
      "cell_type": "code",
      "execution_count": null,
      "metadata": {
        "id": "OO0U61Y8R8nH",
        "outputId": "9988cbbb-9fb1-428f-ecd5-1f4ec8b3729b"
      },
      "outputs": [
        {
          "data": {
            "text/plain": [
              "(10127, 23)"
            ]
          },
          "execution_count": 3,
          "metadata": {},
          "output_type": "execute_result"
        }
      ],
      "source": [
        "df.shape"
      ]
    },
    {
      "cell_type": "code",
      "execution_count": null,
      "metadata": {
        "id": "6CgXxITMR8nI",
        "outputId": "1159d8d4-ba78-48df-f734-679bfb8a1f02"
      },
      "outputs": [
        {
          "data": {
            "text/plain": [
              "Index(['CLIENTNUM', 'Attrition_Flag', 'Customer_Age', 'Gender',\n",
              "       'Dependent_count', 'Education_Level', 'Marital_Status',\n",
              "       'Income_Category', 'Card_Category', 'Months_on_book',\n",
              "       'Total_Relationship_Count', 'Months_Inactive_12_mon',\n",
              "       'Contacts_Count_12_mon', 'Credit_Limit', 'Total_Revolving_Bal',\n",
              "       'Avg_Open_To_Buy', 'Total_Amt_Chng_Q4_Q1', 'Total_Trans_Amt',\n",
              "       'Total_Trans_Ct', 'Total_Ct_Chng_Q4_Q1', 'Avg_Utilization_Ratio',\n",
              "       'Naive_Bayes_Classifier_Attrition_Flag_Card_Category_Contacts_Count_12_mon_Dependent_count_Education_Level_Months_Inactive_12_mon_1',\n",
              "       'Naive_Bayes_Classifier_Attrition_Flag_Card_Category_Contacts_Count_12_mon_Dependent_count_Education_Level_Months_Inactive_12_mon_2'],\n",
              "      dtype='object')"
            ]
          },
          "execution_count": 4,
          "metadata": {},
          "output_type": "execute_result"
        }
      ],
      "source": [
        "df.columns"
      ]
    },
    {
      "cell_type": "code",
      "execution_count": null,
      "metadata": {
        "id": "9cCBi_owR8nI"
      },
      "outputs": [],
      "source": [
        "# Xóa 2 cột cuối vị không cần\n",
        "df = df.drop(df.columns[-2:], axis = 1)"
      ]
    },
    {
      "cell_type": "code",
      "execution_count": null,
      "metadata": {
        "id": "m644kWFvR8nI",
        "outputId": "26a851c8-52ff-4b5e-d8ec-430ca9522575"
      },
      "outputs": [
        {
          "data": {
            "text/plain": [
              "CLIENTNUM                   0\n",
              "Attrition_Flag              0\n",
              "Customer_Age                0\n",
              "Gender                      0\n",
              "Dependent_count             0\n",
              "Education_Level             0\n",
              "Marital_Status              0\n",
              "Income_Category             0\n",
              "Card_Category               0\n",
              "Months_on_book              0\n",
              "Total_Relationship_Count    0\n",
              "Months_Inactive_12_mon      0\n",
              "Contacts_Count_12_mon       0\n",
              "Credit_Limit                0\n",
              "Total_Revolving_Bal         0\n",
              "Avg_Open_To_Buy             0\n",
              "Total_Amt_Chng_Q4_Q1        0\n",
              "Total_Trans_Amt             0\n",
              "Total_Trans_Ct              0\n",
              "Total_Ct_Chng_Q4_Q1         0\n",
              "Avg_Utilization_Ratio       0\n",
              "dtype: int64"
            ]
          },
          "execution_count": 6,
          "metadata": {},
          "output_type": "execute_result"
        }
      ],
      "source": [
        "df.isnull().sum()"
      ]
    },
    {
      "cell_type": "code",
      "execution_count": null,
      "metadata": {
        "id": "ZPTprJvTR8nJ",
        "outputId": "1d92918c-614a-4bce-e9e5-ba04e0893408"
      },
      "outputs": [
        {
          "data": {
            "text/plain": [
              "0"
            ]
          },
          "execution_count": 7,
          "metadata": {},
          "output_type": "execute_result"
        }
      ],
      "source": [
        "df.duplicated().sum()"
      ]
    },
    {
      "cell_type": "code",
      "execution_count": null,
      "metadata": {
        "id": "syP9OJvvR8nJ",
        "outputId": "a04a5fca-9058-4be0-d650-d6588faf122f"
      },
      "outputs": [
        {
          "data": {
            "text/plain": [
              "Index(['CLIENTNUM', 'Customer_Age', 'Dependent_count', 'Months_on_book',\n",
              "       'Total_Relationship_Count', 'Months_Inactive_12_mon',\n",
              "       'Contacts_Count_12_mon', 'Credit_Limit', 'Total_Revolving_Bal',\n",
              "       'Avg_Open_To_Buy', 'Total_Amt_Chng_Q4_Q1', 'Total_Trans_Amt',\n",
              "       'Total_Trans_Ct', 'Total_Ct_Chng_Q4_Q1', 'Avg_Utilization_Ratio'],\n",
              "      dtype='object')"
            ]
          },
          "execution_count": 8,
          "metadata": {},
          "output_type": "execute_result"
        }
      ],
      "source": [
        "#Get the list of numerical columns\n",
        "\n",
        "df.select_dtypes(['int64','float64']).columns"
      ]
    },
    {
      "cell_type": "code",
      "execution_count": null,
      "metadata": {
        "id": "kryelPsAR8nJ",
        "outputId": "6b2891be-1ad8-4637-cfb6-c77dd77f966d"
      },
      "outputs": [
        {
          "data": {
            "text/plain": [
              "Index(['Attrition_Flag', 'Gender', 'Education_Level', 'Marital_Status',\n",
              "       'Income_Category', 'Card_Category'],\n",
              "      dtype='object')"
            ]
          },
          "execution_count": 9,
          "metadata": {},
          "output_type": "execute_result"
        }
      ],
      "source": [
        "#Get the list of categorical columns\n",
        "\n",
        "df.select_dtypes(['object']).columns"
      ]
    },
    {
      "cell_type": "code",
      "execution_count": null,
      "metadata": {
        "id": "-KB3BuPxR8nK",
        "outputId": "a55a0227-7624-489a-ee78-b443b6dbf635"
      },
      "outputs": [
        {
          "data": {
            "text/plain": [
              "Existing Customer    8500\n",
              "Attrited Customer    1627\n",
              "Name: Attrition_Flag, dtype: int64"
            ]
          },
          "execution_count": 10,
          "metadata": {},
          "output_type": "execute_result"
        }
      ],
      "source": [
        "#Get the value count for Attrition flag\n",
        "df['Attrition_Flag'].value_counts()"
      ]
    },
    {
      "cell_type": "code",
      "execution_count": null,
      "metadata": {
        "id": "vHeuuc06R8nL",
        "outputId": "a098a224-c63d-4a65-9b7d-968294b9e3f8"
      },
      "outputs": [
        {
          "data": {
            "text/plain": [
              "F    5358\n",
              "M    4769\n",
              "Name: Gender, dtype: int64"
            ]
          },
          "execution_count": 11,
          "metadata": {},
          "output_type": "execute_result"
        }
      ],
      "source": [
        "#Get the value count for Gender column\n",
        "\n",
        "df['Gender'].value_counts()"
      ]
    },
    {
      "cell_type": "code",
      "execution_count": null,
      "metadata": {
        "id": "92F5y_9FR8nL",
        "outputId": "8b03f60e-2553-4f09-f9bc-6bd8f47a62c2"
      },
      "outputs": [
        {
          "data": {
            "text/plain": [
              "Graduate         3128\n",
              "High School      2013\n",
              "Unknown          1519\n",
              "Uneducated       1487\n",
              "College          1013\n",
              "Post-Graduate     516\n",
              "Doctorate         451\n",
              "Name: Education_Level, dtype: int64"
            ]
          },
          "execution_count": 12,
          "metadata": {},
          "output_type": "execute_result"
        }
      ],
      "source": [
        "#Get the value count for Education_Level column\n",
        "\n",
        "df['Education_Level'].value_counts()"
      ]
    },
    {
      "cell_type": "code",
      "execution_count": null,
      "metadata": {
        "id": "uaFJAcEER8nL",
        "outputId": "fd38e701-74e0-4d2a-f274-d6ae67ef20d5"
      },
      "outputs": [
        {
          "data": {
            "text/plain": [
              "Graduate         4647\n",
              "High School      2013\n",
              "Uneducated       1487\n",
              "College          1013\n",
              "Post-Graduate     516\n",
              "Doctorate         451\n",
              "Name: Education_Level, dtype: int64"
            ]
          },
          "execution_count": 13,
          "metadata": {},
          "output_type": "execute_result"
        }
      ],
      "source": [
        "#Replace the unknown Education_Level with the mode\n",
        "\n",
        "df['Education_Level'].replace('Unknown',df['Education_Level'].mode()[0],inplace=True)\n",
        "df['Education_Level'].value_counts()"
      ]
    },
    {
      "cell_type": "code",
      "execution_count": null,
      "metadata": {
        "id": "_dDgXsL6R8nM",
        "outputId": "3af6a4bb-3f2f-4c25-c5cf-0d804ac1a25b"
      },
      "outputs": [
        {
          "data": {
            "text/plain": [
              "Married     4687\n",
              "Single      3943\n",
              "Unknown      749\n",
              "Divorced     748\n",
              "Name: Marital_Status, dtype: int64"
            ]
          },
          "execution_count": 14,
          "metadata": {},
          "output_type": "execute_result"
        }
      ],
      "source": [
        "#Get the value count for Marital_Status column\n",
        "\n",
        "df['Marital_Status'].value_counts()"
      ]
    },
    {
      "cell_type": "code",
      "execution_count": null,
      "metadata": {
        "id": "YaFgwabYR8nM",
        "outputId": "2f476b20-5fcc-4764-db9e-54a27293e604"
      },
      "outputs": [
        {
          "data": {
            "text/plain": [
              "Married     5436\n",
              "Single      3943\n",
              "Divorced     748\n",
              "Name: Marital_Status, dtype: int64"
            ]
          },
          "execution_count": 15,
          "metadata": {},
          "output_type": "execute_result"
        }
      ],
      "source": [
        "#Replace the unknown Marital_Status with the mode\n",
        "\n",
        "df['Marital_Status'].replace('Unknown',df['Marital_Status'].mode()[0],inplace=True)\n",
        "df['Marital_Status'].value_counts()"
      ]
    },
    {
      "cell_type": "code",
      "execution_count": null,
      "metadata": {
        "id": "3xlpk734R8nM",
        "outputId": "4b5b2b68-5daa-43fa-a85b-2cf4fa4ae46f"
      },
      "outputs": [
        {
          "data": {
            "text/plain": [
              "Less than $40K    3561\n",
              "$40K - $60K       1790\n",
              "$80K - $120K      1535\n",
              "$60K - $80K       1402\n",
              "Unknown           1112\n",
              "$120K +            727\n",
              "Name: Income_Category, dtype: int64"
            ]
          },
          "execution_count": 16,
          "metadata": {},
          "output_type": "execute_result"
        }
      ],
      "source": [
        "#Get the value count for Income_Category\n",
        "\n",
        "df['Income_Category'].value_counts()"
      ]
    },
    {
      "cell_type": "code",
      "execution_count": null,
      "metadata": {
        "id": "HC1l5i5uR8nN",
        "outputId": "542f75a7-675c-4b66-e774-c0187195ed89"
      },
      "outputs": [
        {
          "data": {
            "text/plain": [
              "Less than $40K    4673\n",
              "$40K - $60K       1790\n",
              "$80K - $120K      1535\n",
              "$60K - $80K       1402\n",
              "$120K +            727\n",
              "Name: Income_Category, dtype: int64"
            ]
          },
          "execution_count": 17,
          "metadata": {},
          "output_type": "execute_result"
        }
      ],
      "source": [
        "#Replace the unknown income category with the mode\n",
        "\n",
        "df['Income_Category'].replace('Unknown',df['Income_Category'].mode()[0],inplace=True)\n",
        "df['Income_Category'].value_counts()"
      ]
    },
    {
      "cell_type": "code",
      "execution_count": null,
      "metadata": {
        "id": "OestJDyaR8nN",
        "outputId": "47ab74f1-bb17-4a08-e538-7cc5db7a46ab"
      },
      "outputs": [
        {
          "data": {
            "text/plain": [
              "Blue        9436\n",
              "Silver       555\n",
              "Gold         116\n",
              "Platinum      20\n",
              "Name: Card_Category, dtype: int64"
            ]
          },
          "execution_count": 18,
          "metadata": {},
          "output_type": "execute_result"
        }
      ],
      "source": [
        "#Get the value count for Card_Category\n",
        "\n",
        "df['Card_Category'].value_counts()"
      ]
    },
    {
      "cell_type": "code",
      "execution_count": null,
      "metadata": {
        "id": "UwhrFRN4R8nN",
        "outputId": "e3dc503b-b398-4449-b386-efe0f733c860"
      },
      "outputs": [
        {
          "data": {
            "text/html": [
              "<div>\n",
              "<style scoped>\n",
              "    .dataframe tbody tr th:only-of-type {\n",
              "        vertical-align: middle;\n",
              "    }\n",
              "\n",
              "    .dataframe tbody tr th {\n",
              "        vertical-align: top;\n",
              "    }\n",
              "\n",
              "    .dataframe thead th {\n",
              "        text-align: right;\n",
              "    }\n",
              "</style>\n",
              "<table border=\"1\" class=\"dataframe\">\n",
              "  <thead>\n",
              "    <tr style=\"text-align: right;\">\n",
              "      <th></th>\n",
              "      <th>CLIENTNUM</th>\n",
              "      <th>Attrition_Flag</th>\n",
              "      <th>Customer_Age</th>\n",
              "      <th>Gender</th>\n",
              "      <th>Dependent_count</th>\n",
              "      <th>Education_Level</th>\n",
              "      <th>Marital_Status</th>\n",
              "      <th>Income_Category</th>\n",
              "      <th>Card_Category</th>\n",
              "      <th>Months_on_book</th>\n",
              "      <th>Total_Relationship_Count</th>\n",
              "      <th>Months_Inactive_12_mon</th>\n",
              "      <th>Contacts_Count_12_mon</th>\n",
              "      <th>Credit_Limit</th>\n",
              "      <th>Total_Revolving_Bal</th>\n",
              "      <th>Avg_Open_To_Buy</th>\n",
              "      <th>Total_Amt_Chng_Q4_Q1</th>\n",
              "      <th>Total_Trans_Amt</th>\n",
              "      <th>Total_Trans_Ct</th>\n",
              "      <th>Total_Ct_Chng_Q4_Q1</th>\n",
              "      <th>Avg_Utilization_Ratio</th>\n",
              "    </tr>\n",
              "  </thead>\n",
              "  <tbody>\n",
              "    <tr>\n",
              "      <th>0</th>\n",
              "      <td>768805383</td>\n",
              "      <td>Existing Customer</td>\n",
              "      <td>45</td>\n",
              "      <td>M</td>\n",
              "      <td>3</td>\n",
              "      <td>High School</td>\n",
              "      <td>Married</td>\n",
              "      <td>$60K - $80K</td>\n",
              "      <td>Blue</td>\n",
              "      <td>39</td>\n",
              "      <td>5</td>\n",
              "      <td>1</td>\n",
              "      <td>3</td>\n",
              "      <td>12691.0</td>\n",
              "      <td>777</td>\n",
              "      <td>11914.0</td>\n",
              "      <td>1.335</td>\n",
              "      <td>1144</td>\n",
              "      <td>42</td>\n",
              "      <td>1.625</td>\n",
              "      <td>0.061</td>\n",
              "    </tr>\n",
              "    <tr>\n",
              "      <th>1</th>\n",
              "      <td>818770008</td>\n",
              "      <td>Existing Customer</td>\n",
              "      <td>49</td>\n",
              "      <td>F</td>\n",
              "      <td>5</td>\n",
              "      <td>Graduate</td>\n",
              "      <td>Single</td>\n",
              "      <td>Less than $40K</td>\n",
              "      <td>Blue</td>\n",
              "      <td>44</td>\n",
              "      <td>6</td>\n",
              "      <td>1</td>\n",
              "      <td>2</td>\n",
              "      <td>8256.0</td>\n",
              "      <td>864</td>\n",
              "      <td>7392.0</td>\n",
              "      <td>1.541</td>\n",
              "      <td>1291</td>\n",
              "      <td>33</td>\n",
              "      <td>3.714</td>\n",
              "      <td>0.105</td>\n",
              "    </tr>\n",
              "    <tr>\n",
              "      <th>2</th>\n",
              "      <td>713982108</td>\n",
              "      <td>Existing Customer</td>\n",
              "      <td>51</td>\n",
              "      <td>M</td>\n",
              "      <td>3</td>\n",
              "      <td>Graduate</td>\n",
              "      <td>Married</td>\n",
              "      <td>$80K - $120K</td>\n",
              "      <td>Blue</td>\n",
              "      <td>36</td>\n",
              "      <td>4</td>\n",
              "      <td>1</td>\n",
              "      <td>0</td>\n",
              "      <td>3418.0</td>\n",
              "      <td>0</td>\n",
              "      <td>3418.0</td>\n",
              "      <td>2.594</td>\n",
              "      <td>1887</td>\n",
              "      <td>20</td>\n",
              "      <td>2.333</td>\n",
              "      <td>0.000</td>\n",
              "    </tr>\n",
              "    <tr>\n",
              "      <th>3</th>\n",
              "      <td>769911858</td>\n",
              "      <td>Existing Customer</td>\n",
              "      <td>40</td>\n",
              "      <td>F</td>\n",
              "      <td>4</td>\n",
              "      <td>High School</td>\n",
              "      <td>Married</td>\n",
              "      <td>Less than $40K</td>\n",
              "      <td>Blue</td>\n",
              "      <td>34</td>\n",
              "      <td>3</td>\n",
              "      <td>4</td>\n",
              "      <td>1</td>\n",
              "      <td>3313.0</td>\n",
              "      <td>2517</td>\n",
              "      <td>796.0</td>\n",
              "      <td>1.405</td>\n",
              "      <td>1171</td>\n",
              "      <td>20</td>\n",
              "      <td>2.333</td>\n",
              "      <td>0.760</td>\n",
              "    </tr>\n",
              "    <tr>\n",
              "      <th>4</th>\n",
              "      <td>709106358</td>\n",
              "      <td>Existing Customer</td>\n",
              "      <td>40</td>\n",
              "      <td>M</td>\n",
              "      <td>3</td>\n",
              "      <td>Uneducated</td>\n",
              "      <td>Married</td>\n",
              "      <td>$60K - $80K</td>\n",
              "      <td>Blue</td>\n",
              "      <td>21</td>\n",
              "      <td>5</td>\n",
              "      <td>1</td>\n",
              "      <td>0</td>\n",
              "      <td>4716.0</td>\n",
              "      <td>0</td>\n",
              "      <td>4716.0</td>\n",
              "      <td>2.175</td>\n",
              "      <td>816</td>\n",
              "      <td>28</td>\n",
              "      <td>2.500</td>\n",
              "      <td>0.000</td>\n",
              "    </tr>\n",
              "  </tbody>\n",
              "</table>\n",
              "</div>"
            ],
            "text/plain": [
              "   CLIENTNUM     Attrition_Flag  Customer_Age Gender  Dependent_count  \\\n",
              "0  768805383  Existing Customer            45      M                3   \n",
              "1  818770008  Existing Customer            49      F                5   \n",
              "2  713982108  Existing Customer            51      M                3   \n",
              "3  769911858  Existing Customer            40      F                4   \n",
              "4  709106358  Existing Customer            40      M                3   \n",
              "\n",
              "  Education_Level Marital_Status Income_Category Card_Category  \\\n",
              "0     High School        Married     $60K - $80K          Blue   \n",
              "1        Graduate         Single  Less than $40K          Blue   \n",
              "2        Graduate        Married    $80K - $120K          Blue   \n",
              "3     High School        Married  Less than $40K          Blue   \n",
              "4      Uneducated        Married     $60K - $80K          Blue   \n",
              "\n",
              "   Months_on_book  Total_Relationship_Count  Months_Inactive_12_mon  \\\n",
              "0              39                         5                       1   \n",
              "1              44                         6                       1   \n",
              "2              36                         4                       1   \n",
              "3              34                         3                       4   \n",
              "4              21                         5                       1   \n",
              "\n",
              "   Contacts_Count_12_mon  Credit_Limit  Total_Revolving_Bal  Avg_Open_To_Buy  \\\n",
              "0                      3       12691.0                  777          11914.0   \n",
              "1                      2        8256.0                  864           7392.0   \n",
              "2                      0        3418.0                    0           3418.0   \n",
              "3                      1        3313.0                 2517            796.0   \n",
              "4                      0        4716.0                    0           4716.0   \n",
              "\n",
              "   Total_Amt_Chng_Q4_Q1  Total_Trans_Amt  Total_Trans_Ct  Total_Ct_Chng_Q4_Q1  \\\n",
              "0                 1.335             1144              42                1.625   \n",
              "1                 1.541             1291              33                3.714   \n",
              "2                 2.594             1887              20                2.333   \n",
              "3                 1.405             1171              20                2.333   \n",
              "4                 2.175              816              28                2.500   \n",
              "\n",
              "   Avg_Utilization_Ratio  \n",
              "0                  0.061  \n",
              "1                  0.105  \n",
              "2                  0.000  \n",
              "3                  0.760  \n",
              "4                  0.000  "
            ]
          },
          "execution_count": 19,
          "metadata": {},
          "output_type": "execute_result"
        }
      ],
      "source": [
        "df.head()"
      ]
    },
    {
      "cell_type": "code",
      "execution_count": null,
      "metadata": {
        "id": "a5oTfiG0R8nO",
        "outputId": "2cb7b370-e5a2-4e1d-9cd5-6bc2773cbae2"
      },
      "outputs": [
        {
          "data": {
            "text/plain": [
              "count    10127.000000\n",
              "mean      8631.953698\n",
              "std       9088.776650\n",
              "min       1438.300000\n",
              "25%       2555.000000\n",
              "50%       4549.000000\n",
              "75%      11067.500000\n",
              "max      34516.000000\n",
              "Name: Credit_Limit, dtype: float64"
            ]
          },
          "execution_count": 26,
          "metadata": {},
          "output_type": "execute_result"
        }
      ],
      "source": [
        "df['Credit_Limit'].describe()"
      ]
    },
    {
      "cell_type": "code",
      "execution_count": null,
      "metadata": {
        "id": "TvaAUbxCR8nO"
      },
      "outputs": [],
      "source": [
        "#df.to_csv(f'D:\\Quyen\\PYTHON\\TRAINING DATA\\FinalTest - K2\\CustomerDatasetClean.csv',index = False)"
      ]
    }
  ],
  "metadata": {
    "kernelspec": {
      "display_name": "Python 3.9.7 ('base')",
      "language": "python",
      "name": "python3"
    },
    "language_info": {
      "codemirror_mode": {
        "name": "ipython",
        "version": 3
      },
      "file_extension": ".py",
      "mimetype": "text/x-python",
      "name": "python",
      "nbconvert_exporter": "python",
      "pygments_lexer": "ipython3",
      "version": "3.9.7"
    },
    "orig_nbformat": 4,
    "vscode": {
      "interpreter": {
        "hash": "effe0537abfed60f911a6d119edf3dd23784c9dcf6ad90564d0c8420279a3d36"
      }
    },
    "colab": {
      "provenance": [],
      "include_colab_link": true
    }
  },
  "nbformat": 4,
  "nbformat_minor": 0
}